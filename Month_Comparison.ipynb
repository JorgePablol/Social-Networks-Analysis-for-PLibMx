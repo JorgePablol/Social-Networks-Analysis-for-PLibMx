{
  "nbformat": 4,
  "nbformat_minor": 0,
  "metadata": {
    "colab": {
      "name": "Month Comparison.ipynb",
      "provenance": [],
      "collapsed_sections": []
    },
    "kernelspec": {
      "name": "python3",
      "display_name": "Python 3"
    },
    "language_info": {
      "name": "python"
    }
  },
  "cells": [
    {
      "cell_type": "markdown",
      "metadata": {
        "id": "R_v-iXA_3hfd"
      },
      "source": [
        "Assumptions of the Mann-Whitney test:\n",
        "\n",
        "*   random samples from populations\n",
        "*   independence within samples and mutual independence between samples\n",
        "*   measurement scale is at least ordinal"
      ]
    },
    {
      "cell_type": "code",
      "metadata": {
        "id": "8zIQJvUuh7TI"
      },
      "source": [
        "import pandas as pd\n",
        "import numpy as np\n",
        "import matplotlib.pyplot as plt"
      ],
      "execution_count": null,
      "outputs": []
    },
    {
      "cell_type": "code",
      "metadata": {
        "id": "sG6rE3VAiBr-"
      },
      "source": [
        "df_fb = pd.read_csv('FACEBOOK ABRIL.csv')\n",
        "df_fb2= pd.read_csv('FACEBOOK MAYO.csv')\n",
        "\n",
        "df_tt = pd.read_csv('TIKTOK ABRIL.csv')\n",
        "df_tt2 = pd.read_csv('TIKTOK MAYO.csv')\n",
        "\n",
        "df_tw = pd.read_csv('TWITTER ABRIL.csv')\n",
        "df_tw2 = pd.read_csv('TWITTER MAYO.csv')"
      ],
      "execution_count": null,
      "outputs": []
    },
    {
      "cell_type": "code",
      "metadata": {
        "id": "kVReFVGqi_vQ"
      },
      "source": [
        "import scipy.stats as sp"
      ],
      "execution_count": null,
      "outputs": []
    },
    {
      "cell_type": "markdown",
      "metadata": {
        "id": "pngLsAUJyTB8"
      },
      "source": [
        "**Facebook**"
      ]
    },
    {
      "cell_type": "code",
      "metadata": {
        "colab": {
          "base_uri": "https://localhost:8080/"
        },
        "id": "x0nsaptTpznj",
        "outputId": "4293e0ae-11c8-4142-bfd5-c7b0cd84d56f"
      },
      "source": [
        "sp.mannwhitneyu(df_fb['Alcance'], df_fb2['Alcance'], alternative='greater')\n"
      ],
      "execution_count": null,
      "outputs": [
        {
          "output_type": "execute_result",
          "data": {
            "text/plain": [
              "MannwhitneyuResult(statistic=5093.5, pvalue=4.173157276751096e-09)"
            ]
          },
          "metadata": {
            "tags": []
          },
          "execution_count": 20
        }
      ]
    },
    {
      "cell_type": "code",
      "metadata": {
        "id": "0dvyDMSbqgRc",
        "colab": {
          "base_uri": "https://localhost:8080/"
        },
        "outputId": "7ef2639d-f585-4414-9ca1-c37bcec84ffa"
      },
      "source": [
        "sp.mannwhitneyu(df_fb['Me gusta y reacciones'], df_fb2['Me gusta y reacciones'], alternative='greater')"
      ],
      "execution_count": null,
      "outputs": [
        {
          "output_type": "execute_result",
          "data": {
            "text/plain": [
              "MannwhitneyuResult(statistic=4701.5, pvalue=3.7231126495219354e-06)"
            ]
          },
          "metadata": {
            "tags": []
          },
          "execution_count": 21
        }
      ]
    },
    {
      "cell_type": "markdown",
      "metadata": {
        "id": "GqXTtVoq3C0H"
      },
      "source": [
        "Abril es significativamente superior a Mayo en facebook"
      ]
    },
    {
      "cell_type": "markdown",
      "metadata": {
        "id": "Ctobcy4Cyci9"
      },
      "source": [
        "**TikTok**"
      ]
    },
    {
      "cell_type": "code",
      "metadata": {
        "colab": {
          "base_uri": "https://localhost:8080/",
          "height": 466
        },
        "id": "PpDxBirT3H0Y",
        "outputId": "d8b68d7e-0368-4aee-8c0d-1b15c8f3efcd"
      },
      "source": [
        "plt.hist(df_tt['Visualizaciones de vídeos'], bins=50)\n",
        "plt.hist(df_tt2['Visualizaciones de vídeos'], bins=50, alpha=0.4)"
      ],
      "execution_count": null,
      "outputs": [
        {
          "output_type": "execute_result",
          "data": {
            "text/plain": [
              "(array([9., 5., 3., 5., 0., 2., 0., 1., 0., 1., 0., 0., 1., 0., 0., 0., 0.,\n",
              "        0., 1., 0., 0., 1., 0., 0., 0., 0., 0., 0., 0., 0., 0., 0., 0., 0.,\n",
              "        0., 0., 0., 0., 0., 0., 0., 0., 0., 0., 0., 0., 0., 0., 0., 1.]),\n",
              " array([  28.  ,  193.54,  359.08,  524.62,  690.16,  855.7 , 1021.24,\n",
              "        1186.78, 1352.32, 1517.86, 1683.4 , 1848.94, 2014.48, 2180.02,\n",
              "        2345.56, 2511.1 , 2676.64, 2842.18, 3007.72, 3173.26, 3338.8 ,\n",
              "        3504.34, 3669.88, 3835.42, 4000.96, 4166.5 , 4332.04, 4497.58,\n",
              "        4663.12, 4828.66, 4994.2 , 5159.74, 5325.28, 5490.82, 5656.36,\n",
              "        5821.9 , 5987.44, 6152.98, 6318.52, 6484.06, 6649.6 , 6815.14,\n",
              "        6980.68, 7146.22, 7311.76, 7477.3 , 7642.84, 7808.38, 7973.92,\n",
              "        8139.46, 8305.  ]),\n",
              " <a list of 50 Patch objects>)"
            ]
          },
          "metadata": {
            "tags": []
          },
          "execution_count": 51
        },
        {
          "output_type": "display_data",
          "data": {
            "image/png": "[encoded data removed]",
            "text/plain": [
              "<Figure size 432x288 with 1 Axes>"
            ]
          },
          "metadata": {
            "tags": [],
            "needs_background": "light"
          }
        }
      ]
    },
    {
      "cell_type": "code",
      "metadata": {
        "colab": {
          "base_uri": "https://localhost:8080/",
          "height": 450
        },
        "id": "Jtcybv8E23am",
        "outputId": "59436b03-8c93-4650-9dfa-8d11172592de"
      },
      "source": [
        "plt.hist(df_tt['Me gusta'], bins=50)\n",
        "plt.hist(df_tt2['Me gusta'], bins=50, alpha=0.3)"
      ],
      "execution_count": null,
      "outputs": [
        {
          "output_type": "execute_result",
          "data": {
            "text/plain": [
              "(array([7., 9., 4., 3., 0., 1., 0., 0., 2., 0., 0., 1., 1., 0., 0., 1., 0.,\n",
              "        0., 0., 0., 0., 0., 0., 0., 0., 0., 0., 0., 0., 0., 0., 0., 0., 0.,\n",
              "        0., 0., 0., 0., 0., 0., 0., 0., 0., 0., 0., 0., 0., 0., 0., 1.]),\n",
              " array([  0.  ,  13.44,  26.88,  40.32,  53.76,  67.2 ,  80.64,  94.08,\n",
              "        107.52, 120.96, 134.4 , 147.84, 161.28, 174.72, 188.16, 201.6 ,\n",
              "        215.04, 228.48, 241.92, 255.36, 268.8 , 282.24, 295.68, 309.12,\n",
              "        322.56, 336.  , 349.44, 362.88, 376.32, 389.76, 403.2 , 416.64,\n",
              "        430.08, 443.52, 456.96, 470.4 , 483.84, 497.28, 510.72, 524.16,\n",
              "        537.6 , 551.04, 564.48, 577.92, 591.36, 604.8 , 618.24, 631.68,\n",
              "        645.12, 658.56, 672.  ]),\n",
              " <a list of 50 Patch objects>)"
            ]
          },
          "metadata": {
            "tags": []
          },
          "execution_count": 44
        },
        {
          "output_type": "display_data",
          "data": {
            "image/png": "[encoded data removed]",
            "text/plain": [
              "<Figure size 432x288 with 1 Axes>"
            ]
          },
          "metadata": {
            "tags": [],
            "needs_background": "light"
          }
        }
      ]
    },
    {
      "cell_type": "code",
      "metadata": {
        "colab": {
          "base_uri": "https://localhost:8080/"
        },
        "id": "m8sK3D8F3O4t",
        "outputId": "ea927716-f734-4287-ff18-5dbf0094f443"
      },
      "source": [
        "sp.mannwhitneyu(df_tt['Visualizaciones de vídeos'], df_tt2['Visualizaciones de vídeos'], alternative='less')\n",
        "#Cant reject Ho"
      ],
      "execution_count": null,
      "outputs": [
        {
          "output_type": "execute_result",
          "data": {
            "text/plain": [
              "MannwhitneyuResult(statistic=455.5, pvalue=0.5353429272699121)"
            ]
          },
          "metadata": {
            "tags": []
          },
          "execution_count": 47
        }
      ]
    },
    {
      "cell_type": "code",
      "metadata": {
        "colab": {
          "base_uri": "https://localhost:8080/"
        },
        "id": "LB9UBWx5yGRC",
        "outputId": "820052f7-1c72-453b-a90a-a873c5f53082"
      },
      "source": [
        "sp.mannwhitneyu(df_tt['Me gusta'], df_tt2['Me gusta'], alternative='two-sided')\n",
        "#Cant reject Ho"
      ],
      "execution_count": null,
      "outputs": [
        {
          "output_type": "execute_result",
          "data": {
            "text/plain": [
              "MannwhitneyuResult(statistic=497.0, pvalue=0.491638495782977)"
            ]
          },
          "metadata": {
            "tags": []
          },
          "execution_count": 48
        }
      ]
    },
    {
      "cell_type": "markdown",
      "metadata": {
        "id": "_YOyTe9kygMN"
      },
      "source": [
        "**Twitter**"
      ]
    },
    {
      "cell_type": "code",
      "metadata": {
        "colab": {
          "base_uri": "https://localhost:8080/",
          "height": 534
        },
        "id": "pvl4IzyLi6Cu",
        "outputId": "1eb34528-6dc8-44fe-b2f8-5af95b64781d"
      },
      "source": [
        "plt.hist(df_tw['impresiones'], bins=50)\n",
        "plt.hist(df_tw2['impresiones'], bins=50)"
      ],
      "execution_count": null,
      "outputs": [
        {
          "output_type": "execute_result",
          "data": {
            "text/plain": [
              "(array([17., 13., 26., 17., 16., 10.,  7.,  4.,  1.,  6.,  4.,  5.,  5.,\n",
              "         3.,  1.,  2.,  0.,  0.,  0.,  0.,  1.,  0.,  0.,  0.,  1.,  0.,\n",
              "         0.,  2.,  1.,  1.,  0.,  0.,  1.,  0.,  1.,  0.,  0.,  0.,  0.,\n",
              "         0.,  0.,  0.,  0.,  0.,  0.,  0.,  1.,  0.,  0.,  1.]),\n",
              " array([6.00000e+00, 4.56200e+02, 9.06400e+02, 1.35660e+03, 1.80680e+03,\n",
              "        2.25700e+03, 2.70720e+03, 3.15740e+03, 3.60760e+03, 4.05780e+03,\n",
              "        4.50800e+03, 4.95820e+03, 5.40840e+03, 5.85860e+03, 6.30880e+03,\n",
              "        6.75900e+03, 7.20920e+03, 7.65940e+03, 8.10960e+03, 8.55980e+03,\n",
              "        9.01000e+03, 9.46020e+03, 9.91040e+03, 1.03606e+04, 1.08108e+04,\n",
              "        1.12610e+04, 1.17112e+04, 1.21614e+04, 1.26116e+04, 1.30618e+04,\n",
              "        1.35120e+04, 1.39622e+04, 1.44124e+04, 1.48626e+04, 1.53128e+04,\n",
              "        1.57630e+04, 1.62132e+04, 1.66634e+04, 1.71136e+04, 1.75638e+04,\n",
              "        1.80140e+04, 1.84642e+04, 1.89144e+04, 1.93646e+04, 1.98148e+04,\n",
              "        2.02650e+04, 2.07152e+04, 2.11654e+04, 2.16156e+04, 2.20658e+04,\n",
              "        2.25160e+04]),\n",
              " <a list of 50 Patch objects>)"
            ]
          },
          "metadata": {
            "tags": []
          },
          "execution_count": 38
        },
        {
          "output_type": "display_data",
          "data": {
            "image/png": "[encoded data removed]",
            "text/plain": [
              "<Figure size 432x288 with 1 Axes>"
            ]
          },
          "metadata": {
            "tags": [],
            "needs_background": "light"
          }
        }
      ]
    },
    {
      "cell_type": "code",
      "metadata": {
        "colab": {
          "base_uri": "https://localhost:8080/",
          "height": 466
        },
        "id": "cnNehzPGi8rh",
        "outputId": "74fc3463-ece3-4556-ab4f-a7fb6b766cea"
      },
      "source": [
        "plt.hist(df_tw['interacciones'], bins=50)\n",
        "plt.hist(df_tw2['interacciones'], bins=50)"
      ],
      "execution_count": null,
      "outputs": [
        {
          "output_type": "execute_result",
          "data": {
            "text/plain": [
              "(array([32., 18., 21., 10., 15.,  8.,  4.,  6.,  4.,  3.,  5.,  2.,  2.,\n",
              "         0.,  2.,  1.,  3.,  2.,  1.,  0.,  1.,  0.,  0.,  1.,  1.,  0.,\n",
              "         1.,  0.,  1.,  1.,  0.,  0.,  0.,  0.,  0.,  0.,  0.,  0.,  0.,\n",
              "         0.,  0.,  0.,  0.,  0.,  0.,  0.,  0.,  0.,  1.,  1.]),\n",
              " array([   0. ,   24.2,   48.4,   72.6,   96.8,  121. ,  145.2,  169.4,\n",
              "         193.6,  217.8,  242. ,  266.2,  290.4,  314.6,  338.8,  363. ,\n",
              "         387.2,  411.4,  435.6,  459.8,  484. ,  508.2,  532.4,  556.6,\n",
              "         580.8,  605. ,  629.2,  653.4,  677.6,  701.8,  726. ,  750.2,\n",
              "         774.4,  798.6,  822.8,  847. ,  871.2,  895.4,  919.6,  943.8,\n",
              "         968. ,  992.2, 1016.4, 1040.6, 1064.8, 1089. , 1113.2, 1137.4,\n",
              "        1161.6, 1185.8, 1210. ]),\n",
              " <a list of 50 Patch objects>)"
            ]
          },
          "metadata": {
            "tags": []
          },
          "execution_count": 39
        },
        {
          "output_type": "display_data",
          "data": {
            "image/png": "[encoded data removed]",
            "text/plain": [
              "<Figure size 432x288 with 1 Axes>"
            ]
          },
          "metadata": {
            "tags": [],
            "needs_background": "light"
          }
        }
      ]
    },
    {
      "cell_type": "code",
      "metadata": {
        "colab": {
          "base_uri": "https://localhost:8080/"
        },
        "id": "u9X7MidD3oA9",
        "outputId": "0d773767-f175-4120-b49f-95e1e56375f8"
      },
      "source": [
        "sp.mannwhitneyu(df_tw['impresiones'], df_tw2['impresiones'], alternative='greater') # Cant reject H0 for twitter\n"
      ],
      "execution_count": null,
      "outputs": [
        {
          "output_type": "execute_result",
          "data": {
            "text/plain": [
              "MannwhitneyuResult(statistic=9722.0, pvalue=0.8182394084376493)"
            ]
          },
          "metadata": {
            "tags": []
          },
          "execution_count": 35
        }
      ]
    },
    {
      "cell_type": "code",
      "metadata": {
        "colab": {
          "base_uri": "https://localhost:8080/"
        },
        "id": "S_qDf6i4zsQk",
        "outputId": "0273bd4f-7a9b-4c0c-c4e0-161be57e6c16"
      },
      "source": [
        "sp.mannwhitneyu(df_tw['interacciones'], df_tw2['interacciones'], alternative='two-sided') # Cant reject H0 for twitter"
      ],
      "execution_count": null,
      "outputs": [
        {
          "output_type": "execute_result",
          "data": {
            "text/plain": [
              "MannwhitneyuResult(statistic=9660.5, pvalue=0.320051770926033)"
            ]
          },
          "metadata": {
            "tags": []
          },
          "execution_count": 34
        }
      ]
    },
    {
      "cell_type": "code",
      "metadata": {
        "id": "v43vhFzV4E22"
      },
      "source": [
        ""
      ],
      "execution_count": null,
      "outputs": []
    }
  ]
}